{
 "cells": [
  {
   "cell_type": "markdown",
   "metadata": {},
   "source": [
    "# Question 10\n",
    "\n",
    "Jacob Sellinger"
   ]
  },
  {
   "cell_type": "code",
   "execution_count": 3,
   "metadata": {},
   "outputs": [
    {
     "name": "stdout",
     "output_type": "stream",
     "text": [
      "*      *\n",
      "**    **\n",
      "***  ***\n",
      "********\n"
     ]
    }
   ],
   "source": [
    "def draw_custom_star_pattern():\n",
    "    total_rows = 4\n",
    "\n",
    "    for i in range(1, total_rows + 1):\n",
    "        if i < total_rows:\n",
    "            # For the first three rows\n",
    "            num_stars_side = i\n",
    "            num_spaces_middle = (total_rows - i) * 2 # Calculates 6, 4, 2 for i=1, 2, 3 respectively\n",
    "\n",
    "            # Print the line\n",
    "            print(\"*\" * num_stars_side + \" \" * num_spaces_middle + \"*\" * num_stars_side)\n",
    "        else:\n",
    "            # For the last row (full stars)\n",
    "            print(\"*\" * (total_rows * 2)) # total_rows * 2 gives 8 for 4 rows\n",
    "\n",
    "\n",
    "draw_custom_star_pattern()"
   ]
  },
  {
   "cell_type": "code",
   "execution_count": 4,
   "metadata": {},
   "outputs": [
    {
     "name": "stderr",
     "output_type": "stream",
     "text": [
      "[NbConvertApp] Converting notebook python-ds.ipynb to html\n",
      "[NbConvertApp] Writing 305623 bytes to python-ds.html\n"
     ]
    }
   ],
   "source": [
    "!jupyter nbconvert --to html python-ds.ipynb"
   ]
  }
 ],
 "metadata": {
  "kernelspec": {
   "display_name": "Python 3",
   "language": "python",
   "name": "python3"
  },
  "language_info": {
   "codemirror_mode": {
    "name": "ipython",
    "version": 3
   },
   "file_extension": ".py",
   "mimetype": "text/x-python",
   "name": "python",
   "nbconvert_exporter": "python",
   "pygments_lexer": "ipython3",
   "version": "3.13.0"
  }
 },
 "nbformat": 4,
 "nbformat_minor": 2
}
