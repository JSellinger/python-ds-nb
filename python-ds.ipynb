{
 "cells": [
  {
   "cell_type": "markdown",
   "metadata": {},
   "source": [
    "# Web Mining and Applied NLP (44-620)\n",
    "\n",
    "## Python Notebooks, Basics, and Data Structures\n",
    "\n",
    "### Student Name: Jacob Sellinger\n",
    "\n",
    "Perform the tasks described in the Markdown cells below.  When you have completed the assignment make sure your code cells have all been run (and have output beneath them) and ensure you have committed and pushed ALL of your changes to your assignment repository.\n",
    "\n",
    "Every question that requires you to write code will have a code cell underneath it; you may either write your entire solution in that cell or write it in a python file (`.py`), then import and run the appropriate code to answer the question.\n",
    "\n",
    "Do not use external modules (`math`, etc) for this assignment unless you are explicitly instructed to, though you may use built in python functions (`min`, `max`, etc) as you wish."
   ]
  },
  {
   "cell_type": "markdown",
   "metadata": {},
   "source": [
    "1. Modify the Markdown cell above to put your name after \"Student Name:\"; you will be expected to do this in all assignments presented in this format for this class."
   ]
  },
  {
   "cell_type": "markdown",
   "metadata": {},
   "source": [
    "# Question 2\n",
    "2. Write code that divides any two numbers, stores the result in a variable, and prints the result with an appropriate label."
   ]
  },
  {
   "cell_type": "code",
   "execution_count": 114,
   "metadata": {},
   "outputs": [
    {
     "name": "stdout",
     "output_type": "stream",
     "text": [
      "Student Name: Jacob Sellinger\n",
      "Github Repo: https://github.com/JSellinger/python-ds-nb\n"
     ]
    },
    {
     "data": {
      "text/plain": [
       "0.5"
      ]
     },
     "execution_count": 114,
     "metadata": {},
     "output_type": "execute_result"
    }
   ],
   "source": [
    "print(\"Student Name: Jacob Sellinger\")\n",
    "print(\"Github Repo: https://github.com/JSellinger/python-ds-nb\")\n",
    "\n",
    "def question_2 (num_1, num_2):\n",
    "    divide = num_1/num_2\n",
    "    return divide\n",
    "\n",
    "question_2(2,4)\n"
   ]
  },
  {
   "cell_type": "markdown",
   "metadata": {},
   "source": [
    "# Question 3\n",
    "3. Using loops (and potentially conditionals), write Python code that prints the factorial of each integer from 1 through 10 (which you can store in a variable if you want). The factorial of an integer is the product of all of the integers of 1 through the number. Print the result with an appropriate label."
   ]
  },
  {
   "cell_type": "code",
   "execution_count": 115,
   "metadata": {},
   "outputs": [
    {
     "name": "stdout",
     "output_type": "stream",
     "text": [
      "['Factorial of 1 is 1', 'Factorial of 2 is 2', 'Factorial of 3 is 6', 'Factorial of 4 is 24', 'Factorial of 5 is 120', 'Factorial of 6 is 720', 'Factorial of 7 is 5040', 'Factorial of 8 is 40320', 'Factorial of 9 is 362880', 'Factorial of 10 is 3628800']\n"
     ]
    }
   ],
   "source": [
    "def factorial_recursive(num):\n",
    "    if num == 0 or num == 1:\n",
    "        return 1\n",
    "    else:\n",
    "        factorial = num * factorial_recursive(num-1)\n",
    "        return factorial\n",
    "\n",
    "def question_3(int_1, int_2, result=None):\n",
    "    if result is None:\n",
    "        result = []\n",
    "\n",
    "    if int_1 > int_2:\n",
    "        return result\n",
    "    result.append(f\"Factorial of {int_1} is {factorial_recursive(int_1)}\")\n",
    "\n",
    "    return question_3(int_1 + 1, int_2, result)\n",
    "        \n",
    "\n",
    "\n",
    "print(question_3(1, 10))"
   ]
  },
  {
   "cell_type": "markdown",
   "metadata": {},
   "source": [
    "# Question 4\n",
    "4. Write a python function that takes a single parameter and calculates and returns the average (mean) of the values in the parameter (which you may assume is iterable).  Show that your function works by printing the result of calling the function on the list in the cell below."
   ]
  },
  {
   "cell_type": "code",
   "execution_count": 116,
   "metadata": {},
   "outputs": [
    {
     "data": {
      "text/plain": [
       "0.0"
      ]
     },
     "execution_count": 116,
     "metadata": {},
     "output_type": "execute_result"
    }
   ],
   "source": [
    "testlist = [1,-1,2,-2,3,-3,4,-4]\n",
    "\n",
    "def sing_para_average(single_list):\n",
    "    total_sum = 0\n",
    "    iterator = 0\n",
    "    for num in single_list:\n",
    "        total_sum += single_list[iterator]\n",
    "        iterator += 1\n",
    "    return (total_sum/len(single_list))\n",
    "\n",
    "sing_para_average(testlist)"
   ]
  },
  {
   "cell_type": "markdown",
   "metadata": {},
   "source": [
    "# Question 5\n",
    "5. Using your mean function above, write a function that calculates the variance of the list of numbers (see https://en.wikipedia.org/wiki/Variance for more information on the formula). In short:\n",
    "* subtract the mean of the elements in the list from every element in the list; store these values in a new list\n",
    "* square every element in the new list and sum the elements together\n",
    "* divide the resulting number by N (where N is the length of the original list)\n",
    "\n",
    "Show the result of calling your function in the lists in the code cell. You must use one or more list comprehensions or map/filter in your code.\n"
   ]
  },
  {
   "cell_type": "code",
   "execution_count": 117,
   "metadata": {},
   "outputs": [
    {
     "name": "stdout",
     "output_type": "stream",
     "text": [
      "Variance: 1.13973309 and Variance: 0.9257232841\n"
     ]
    }
   ],
   "source": [
    "list1 = [ 5.670e-1, -1.480e+0, -5.570e-1, -1.470e+0, 7.340e-1, 1.050e+0, 4.480e-1, 2.570e-1, -1.970e+0, -1.460e+0]\n",
    "list2 = [-1.780e+0, 2.640e-1, 1.160e+0, 9.080e-1, 1.780e+0, 1.080e+0, 1.050e+0, -4.630e-2, 1.520e+0, 5.350e-1]\n",
    "# the variances of both lists should be relatively close to 1 (off by less than .15)\n",
    "\n",
    "def pop_variance(variance_list):\n",
    "    list_mean = sing_para_average(variance_list)\n",
    "    variance_sum = 0\n",
    "\n",
    "    for num in variance_list:\n",
    "        variance_sum += (num - list_mean)**2\n",
    "    return f\"Variance: {(variance_sum/(len(variance_list)))}\"\n",
    "\n",
    "print(pop_variance(list1) + \" and \" + pop_variance(list2))\n",
    "\n",
    "\n"
   ]
  },
  {
   "cell_type": "markdown",
   "metadata": {},
   "source": [
    "# Question 6\n",
    "6. Create a list with at least 15 elements in it. Use list slicing to print the following:\n",
    "* The first 5 elements of the list\n",
    "* The last 5 elements of the list\n",
    "* The list reversed (hint, show the entire list with a stride of -1)\n",
    "* Every second element in the list\n",
    "* Every third element in the list (stride of 3)"
   ]
  },
  {
   "cell_type": "code",
   "execution_count": 118,
   "metadata": {},
   "outputs": [
    {
     "name": "stdout",
     "output_type": "stream",
     "text": [
      "First 5 elements: [1, 2, 3, 4, 5]\n",
      "Last 5 elements: [11, 12, 13, 14, 15]\n",
      "List reversed: [15, 14, 13, 12, 11, 10, 9, 8, 7, 6, 5, 4, 3, 2, 1]\n",
      "Every second element: [1, 3, 5, 7, 9, 11, 13, 15]\n",
      "Every third element: [1, 4, 7, 10, 13]\n"
     ]
    }
   ],
   "source": [
    "random_list = [1, 2, 3, 4, 5, 6, 7, 8, 9, 10, 11, 12, 13, 14, 15]\n",
    "\n",
    "def list_slice(input_list): # Renamed 'list' parameter to avoid shadowing built-in\n",
    "    \n",
    "    # Check if the list is empty to avoid errors\n",
    "    if not input_list:\n",
    "        print(\"The list is empty.\")\n",
    "        return\n",
    "\n",
    "    # 1. Print The first 5 elements of the list\n",
    "    print(\"First 5 elements:\", input_list[:5])\n",
    "\n",
    "    # 2. Print The last 5 elements of the list\n",
    "    # Using negative index -5 means 5th from the end\n",
    "    print(\"Last 5 elements:\", input_list[-5:])\n",
    "\n",
    "    # 3. Print The list reversed (hint, show the entire list with a stride of -1)\n",
    "    print(\"List reversed:\", input_list[::-1])\n",
    "\n",
    "    # 4. Print Every second element in the list\n",
    "    print(\"Every second element:\", input_list[::2])\n",
    "\n",
    "    # 5. Print Every third element in the list (stride of 3)\n",
    "    print(\"Every third element:\", input_list[::3])\n",
    "\n",
    "list_slice(random_list)"
   ]
  },
  {
   "cell_type": "markdown",
   "metadata": {},
   "source": [
    "# Question 7\n",
    "7. Build a dictionary that contains the following information about this class (with appropriate names as keys):\n",
    "* The name\n",
    "* The course number\n",
    "* The semester/term in which you are taking this course\n",
    "* The number of credit hours this course counts for\n",
    "* A list of the course learning objectives\n",
    "\n",
    "The majority of this information can be found in the syllabus. Print the dictionary."
   ]
  },
  {
   "cell_type": "code",
   "execution_count": 119,
   "metadata": {},
   "outputs": [
    {
     "name": "stdout",
     "output_type": "stream",
     "text": [
      "{'Name': 'Natural Language Processing and Web Mining', 'CourseNumber': '44620', 'Semester': 'Summer 2025', 'Credit Hours': '3', 'Learning Objectives': 'This course introduces accessing, manipulating, and presenting data from a variety of web-based sources'}\n"
     ]
    }
   ],
   "source": [
    "class_dictionary = {\"Name\":\"Natural Language Processing and Web Mining\",\n",
    "                    \"CourseNumber\":\"44620\",\n",
    "                    \"Semester\":\"Summer 2025\",\n",
    "                    \"Credit Hours\": \"3\",\n",
    "                    \"Learning Objectives\":\"This course introduces accessing, manipulating, and presenting data from a variety of web-based sources\"\n",
    "                    }\n",
    "\n",
    "print(class_dictionary)"
   ]
  },
  {
   "cell_type": "markdown",
   "metadata": {},
   "source": [
    "# Question 8\n",
    "8.  Given the dictionary defined in the code cell below, print the list of level 3 spells the character has."
   ]
  },
  {
   "cell_type": "code",
   "execution_count": 120,
   "metadata": {},
   "outputs": [
    {
     "name": "stdout",
     "output_type": "stream",
     "text": [
      "['Mass Healing Word', 'Nondetection', 'Revivify', 'Feign Death', 'Speak with Dead']\n"
     ]
    }
   ],
   "source": [
    "player_character = {'name': 'Kitab',\n",
    "                   'class': [('Cleric: Knowledge', 7)],\n",
    "                   'spells': {'cantrip': ['Guidance', 'Light', 'Thaumaturgy', 'Toll the Dead', 'Word of Radiance'],\n",
    "                             'level 1': ['Command', 'Detect Magic', 'Healing Word', 'Identify', 'Sleep'],\n",
    "                             'level 2': ['Augury', 'Calm Emotions', 'Command', 'Invisibility', 'Lesser Restoration'],\n",
    "                             'level 3': ['Mass Healing Word', 'Nondetection', 'Revivify', 'Feign Death', 'Speak with Dead'],\n",
    "                             'level 4': ['Banishment', 'Confusion']}\n",
    "                   }\n",
    "\n",
    "print(player_character[\"spells\"][\"level 3\"])"
   ]
  },
  {
   "cell_type": "markdown",
   "metadata": {},
   "source": [
    "# Question 9\n",
    "9. Write code to determine the number of unique elements in the list below.  You MUST use a set in finding your solution.  Print the number of unique values in the list with an appropriate label.\n",
    "\n",
    "\n"
   ]
  },
  {
   "cell_type": "code",
   "execution_count": 121,
   "metadata": {},
   "outputs": [
    {
     "name": "stdout",
     "output_type": "stream",
     "text": [
      "The number of unique values in the list is: 12\n",
      "None\n"
     ]
    }
   ],
   "source": [
    "values = [10, 11, 10, 8, 1, 12, 0, 1, 6, 5, 5, 13, 6, 15, 0, 0, 1, 1, 9, 7]\n",
    "\n",
    "def count_unique_elements(input_list):\n",
    "    unique_elements_set = set(input_list)\n",
    "\n",
    "    num_unique = len(unique_elements_set)\n",
    "\n",
    "    print(f\"The number of unique values in the list is: {num_unique}\")\n",
    "\n",
    "print(count_unique_elements(values))"
   ]
  },
  {
   "cell_type": "markdown",
   "metadata": {},
   "source": [
    "# Question 10\n",
    "10. Create a new Jupyter Notebook (the name of the notebook should be your S number). Add a Markdown cell that contains your name. Add a Code cell and write Python that uses loops to draw the following pattern:\n",
    "\n",
    "```\n",
    "*      *\n",
    "**    **\n",
    "***  ***\n",
    "********\n",
    "```\n",
    "Make sure to add and submit both the new notebook and the changes to this notebook for this assignment."
   ]
  }
 ],
 "metadata": {
  "kernelspec": {
   "display_name": "Python 3",
   "language": "python",
   "name": "python3"
  },
  "language_info": {
   "codemirror_mode": {
    "name": "ipython",
    "version": 3
   },
   "file_extension": ".py",
   "mimetype": "text/x-python",
   "name": "python",
   "nbconvert_exporter": "python",
   "pygments_lexer": "ipython3",
   "version": "3.13.0"
  }
 },
 "nbformat": 4,
 "nbformat_minor": 4
}
